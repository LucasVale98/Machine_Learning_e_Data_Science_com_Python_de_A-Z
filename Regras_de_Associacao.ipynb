{
  "nbformat": 4,
  "nbformat_minor": 0,
  "metadata": {
    "colab": {
      "name": "Regras_de_Associacao.ipynb",
      "provenance": [],
      "collapsed_sections": [],
      "include_colab_link": true
    },
    "kernelspec": {
      "name": "python3",
      "display_name": "Python 3"
    },
    "language_info": {
      "name": "python"
    }
  },
  "cells": [
    {
      "cell_type": "markdown",
      "metadata": {
        "id": "view-in-github",
        "colab_type": "text"
      },
      "source": [
        "<a href=\"https://colab.research.google.com/github/LucasVale98/Machine_Learning_e_Data_Science_com_Python_de_A-Z/blob/main/Regras_de_Associacao.ipynb\" target=\"_parent\"><img src=\"https://colab.research.google.com/assets/colab-badge.svg\" alt=\"Open In Colab\"/></a>"
      ]
    },
    {
      "cell_type": "code",
      "metadata": {
        "colab": {
          "base_uri": "https://localhost:8080/"
        },
        "id": "DWdxPdKqACrp",
        "outputId": "f75da07f-687c-4990-e56f-64f662551430"
      },
      "source": [
        "!pip install apyori"
      ],
      "execution_count": null,
      "outputs": [
        {
          "output_type": "stream",
          "text": [
            "Requirement already satisfied: apyori in /usr/local/lib/python3.7/dist-packages (1.1.2)\n"
          ],
          "name": "stdout"
        }
      ]
    },
    {
      "cell_type": "code",
      "metadata": {
        "id": "v_H09LEYMv6V"
      },
      "source": [
        "import pandas as pd\n",
        "import numpy as np"
      ],
      "execution_count": null,
      "outputs": []
    },
    {
      "cell_type": "code",
      "metadata": {
        "id": "TWYaE3-tM1NR"
      },
      "source": [
        "from apyori import  apriori"
      ],
      "execution_count": null,
      "outputs": []
    },
    {
      "cell_type": "markdown",
      "metadata": {
        "id": "qpYFvEBk_4DJ"
      },
      "source": [
        "**Regras de associação - base mercado 1**"
      ]
    },
    {
      "cell_type": "code",
      "metadata": {
        "colab": {
          "base_uri": "https://localhost:8080/",
          "height": 360
        },
        "id": "k13uZG_7ACo6",
        "outputId": "9f33a9b8-c5b0-41b5-8acd-880d54af5121"
      },
      "source": [
        "base_mercado1 = pd.read_csv('/content/mercado.csv', header=None)\n",
        "base_mercado1"
      ],
      "execution_count": null,
      "outputs": [
        {
          "output_type": "execute_result",
          "data": {
            "text/html": [
              "<div>\n",
              "<style scoped>\n",
              "    .dataframe tbody tr th:only-of-type {\n",
              "        vertical-align: middle;\n",
              "    }\n",
              "\n",
              "    .dataframe tbody tr th {\n",
              "        vertical-align: top;\n",
              "    }\n",
              "\n",
              "    .dataframe thead th {\n",
              "        text-align: right;\n",
              "    }\n",
              "</style>\n",
              "<table border=\"1\" class=\"dataframe\">\n",
              "  <thead>\n",
              "    <tr style=\"text-align: right;\">\n",
              "      <th></th>\n",
              "      <th>0</th>\n",
              "      <th>1</th>\n",
              "      <th>2</th>\n",
              "      <th>3</th>\n",
              "    </tr>\n",
              "  </thead>\n",
              "  <tbody>\n",
              "    <tr>\n",
              "      <th>0</th>\n",
              "      <td>leite</td>\n",
              "      <td>cerveja</td>\n",
              "      <td>pao</td>\n",
              "      <td>manteiga</td>\n",
              "    </tr>\n",
              "    <tr>\n",
              "      <th>1</th>\n",
              "      <td>cafe</td>\n",
              "      <td>pao</td>\n",
              "      <td>manteiga</td>\n",
              "      <td>NaN</td>\n",
              "    </tr>\n",
              "    <tr>\n",
              "      <th>2</th>\n",
              "      <td>cafe</td>\n",
              "      <td>pao</td>\n",
              "      <td>manteiga</td>\n",
              "      <td>NaN</td>\n",
              "    </tr>\n",
              "    <tr>\n",
              "      <th>3</th>\n",
              "      <td>leite</td>\n",
              "      <td>cafe</td>\n",
              "      <td>pao</td>\n",
              "      <td>manteiga</td>\n",
              "    </tr>\n",
              "    <tr>\n",
              "      <th>4</th>\n",
              "      <td>cerveja</td>\n",
              "      <td>NaN</td>\n",
              "      <td>NaN</td>\n",
              "      <td>NaN</td>\n",
              "    </tr>\n",
              "    <tr>\n",
              "      <th>5</th>\n",
              "      <td>manteiga</td>\n",
              "      <td>NaN</td>\n",
              "      <td>NaN</td>\n",
              "      <td>NaN</td>\n",
              "    </tr>\n",
              "    <tr>\n",
              "      <th>6</th>\n",
              "      <td>pao</td>\n",
              "      <td>NaN</td>\n",
              "      <td>NaN</td>\n",
              "      <td>NaN</td>\n",
              "    </tr>\n",
              "    <tr>\n",
              "      <th>7</th>\n",
              "      <td>feijao</td>\n",
              "      <td>NaN</td>\n",
              "      <td>NaN</td>\n",
              "      <td>NaN</td>\n",
              "    </tr>\n",
              "    <tr>\n",
              "      <th>8</th>\n",
              "      <td>arroz</td>\n",
              "      <td>feijao</td>\n",
              "      <td>NaN</td>\n",
              "      <td>NaN</td>\n",
              "    </tr>\n",
              "    <tr>\n",
              "      <th>9</th>\n",
              "      <td>arroz</td>\n",
              "      <td>NaN</td>\n",
              "      <td>NaN</td>\n",
              "      <td>NaN</td>\n",
              "    </tr>\n",
              "  </tbody>\n",
              "</table>\n",
              "</div>"
            ],
            "text/plain": [
              "          0        1         2         3\n",
              "0     leite  cerveja       pao  manteiga\n",
              "1      cafe      pao  manteiga       NaN\n",
              "2      cafe      pao  manteiga       NaN\n",
              "3     leite     cafe       pao  manteiga\n",
              "4   cerveja      NaN       NaN       NaN\n",
              "5  manteiga      NaN       NaN       NaN\n",
              "6       pao      NaN       NaN       NaN\n",
              "7    feijao      NaN       NaN       NaN\n",
              "8     arroz   feijao       NaN       NaN\n",
              "9     arroz      NaN       NaN       NaN"
            ]
          },
          "metadata": {},
          "execution_count": 7
        }
      ]
    },
    {
      "cell_type": "code",
      "metadata": {
        "id": "xmrCDrPyP3_F"
      },
      "source": [
        "transacoes = []\n",
        "for i in range(len(base_mercado1)):\n",
        "  #print(i)\n",
        "  #print(base_mercado1.values[i, 0])\n",
        "  transacoes.append([str(base_mercado1.values[i, j]) for j in range(base_mercado1.shape[1])])"
      ],
      "execution_count": null,
      "outputs": []
    },
    {
      "cell_type": "code",
      "metadata": {
        "colab": {
          "base_uri": "https://localhost:8080/"
        },
        "id": "KVit5HVONnCo",
        "outputId": "36987656-29bb-44a2-d824-74d047377a9f"
      },
      "source": [
        "transacoes"
      ],
      "execution_count": null,
      "outputs": [
        {
          "output_type": "execute_result",
          "data": {
            "text/plain": [
              "[['leite', 'cerveja', 'pao', 'manteiga'],\n",
              " ['cafe', 'pao', 'manteiga', 'nan'],\n",
              " ['cafe', 'pao', 'manteiga', 'nan'],\n",
              " ['leite', 'cafe', 'pao', 'manteiga'],\n",
              " ['cerveja', 'nan', 'nan', 'nan'],\n",
              " ['manteiga', 'nan', 'nan', 'nan'],\n",
              " ['pao', 'nan', 'nan', 'nan'],\n",
              " ['feijao', 'nan', 'nan', 'nan'],\n",
              " ['arroz', 'feijao', 'nan', 'nan'],\n",
              " ['arroz', 'nan', 'nan', 'nan']]"
            ]
          },
          "metadata": {},
          "execution_count": 9
        }
      ]
    },
    {
      "cell_type": "code",
      "metadata": {
        "colab": {
          "base_uri": "https://localhost:8080/"
        },
        "id": "ZuGCXw9FNnH8",
        "outputId": "df8eaac6-bb99-4e70-ec09-74a2675c1524"
      },
      "source": [
        "type(transacoes)"
      ],
      "execution_count": null,
      "outputs": [
        {
          "output_type": "execute_result",
          "data": {
            "text/plain": [
              "list"
            ]
          },
          "metadata": {},
          "execution_count": 10
        }
      ]
    },
    {
      "cell_type": "markdown",
      "metadata": {
        "id": "vfhdldZeNnNe"
      },
      "source": [
        "**Regras de associação - base mercado 2**"
      ]
    },
    {
      "cell_type": "code",
      "metadata": {
        "id": "RuZfeKIINna8"
      },
      "source": [
        "regras = apriori(transacoes, min_support = 0.3, min_confidence = 0.8, min_lift = 2)\n",
        "resultados = list(regras)"
      ],
      "execution_count": null,
      "outputs": []
    },
    {
      "cell_type": "code",
      "metadata": {
        "colab": {
          "base_uri": "https://localhost:8080/"
        },
        "id": "9G0S0Gt-NnfU",
        "outputId": "9dba788a-6533-4fed-859d-58f3613ff9c7"
      },
      "source": [
        "resultados"
      ],
      "execution_count": null,
      "outputs": [
        {
          "output_type": "execute_result",
          "data": {
            "text/plain": [
              "[RelationRecord(items=frozenset({'manteiga', 'cafe'}), support=0.3, ordered_statistics=[OrderedStatistic(items_base=frozenset({'cafe'}), items_add=frozenset({'manteiga'}), confidence=1.0, lift=2.0)]),\n",
              " RelationRecord(items=frozenset({'pao', 'cafe'}), support=0.3, ordered_statistics=[OrderedStatistic(items_base=frozenset({'cafe'}), items_add=frozenset({'pao'}), confidence=1.0, lift=2.0)]),\n",
              " RelationRecord(items=frozenset({'pao', 'manteiga', 'cafe'}), support=0.3, ordered_statistics=[OrderedStatistic(items_base=frozenset({'cafe'}), items_add=frozenset({'pao', 'manteiga'}), confidence=1.0, lift=2.5), OrderedStatistic(items_base=frozenset({'manteiga', 'cafe'}), items_add=frozenset({'pao'}), confidence=1.0, lift=2.0), OrderedStatistic(items_base=frozenset({'pao', 'cafe'}), items_add=frozenset({'manteiga'}), confidence=1.0, lift=2.0)])]"
            ]
          },
          "metadata": {},
          "execution_count": 12
        }
      ]
    },
    {
      "cell_type": "code",
      "metadata": {
        "colab": {
          "base_uri": "https://localhost:8080/"
        },
        "id": "sadCcsbONnlY",
        "outputId": "42a0c33d-72dd-4d27-be19-601814fe0863"
      },
      "source": [
        "len(resultados)"
      ],
      "execution_count": null,
      "outputs": [
        {
          "output_type": "execute_result",
          "data": {
            "text/plain": [
              "3"
            ]
          },
          "metadata": {},
          "execution_count": 13
        }
      ]
    },
    {
      "cell_type": "code",
      "metadata": {
        "colab": {
          "base_uri": "https://localhost:8080/"
        },
        "id": "V_A4jxf8NnpK",
        "outputId": "71b986e5-7f35-4f66-9881-8a3bf629b8b5"
      },
      "source": [
        "resultados[2]"
      ],
      "execution_count": null,
      "outputs": [
        {
          "output_type": "execute_result",
          "data": {
            "text/plain": [
              "RelationRecord(items=frozenset({'pao', 'manteiga', 'cafe'}), support=0.3, ordered_statistics=[OrderedStatistic(items_base=frozenset({'cafe'}), items_add=frozenset({'pao', 'manteiga'}), confidence=1.0, lift=2.5), OrderedStatistic(items_base=frozenset({'manteiga', 'cafe'}), items_add=frozenset({'pao'}), confidence=1.0, lift=2.0), OrderedStatistic(items_base=frozenset({'pao', 'cafe'}), items_add=frozenset({'manteiga'}), confidence=1.0, lift=2.0)])"
            ]
          },
          "metadata": {},
          "execution_count": 14
        }
      ]
    },
    {
      "cell_type": "markdown",
      "metadata": {
        "id": "9siBebn0Nnt7"
      },
      "source": [
        "RelationRecord(items=frozenset({'cafe', 'pao', 'manteiga'}), support=0.3, ordered_statistics=[OrderedStatistic(items_base=frozenset({'cafe'}), items_add=frozenset({'pao', 'manteiga'}), confidence=1.0, lift=2.5), OrderedStatistic(items_base=frozenset({'cafe', 'manteiga'}), items_add=frozenset({'pao'}), confidence=1.0, lift=2.0), OrderedStatistic(items_base=frozenset({'cafe', 'pao'}), items_add=frozenset({'manteiga'}), confidence=1.0, lift=2.0)])\n"
      ]
    },
    {
      "cell_type": "code",
      "metadata": {
        "colab": {
          "base_uri": "https://localhost:8080/"
        },
        "id": "AKXFuaMUVNCy",
        "outputId": "4eaaf978-1b2b-420e-8b68-c11d991f9e97"
      },
      "source": [
        "resultados[2][0]"
      ],
      "execution_count": null,
      "outputs": [
        {
          "output_type": "execute_result",
          "data": {
            "text/plain": [
              "frozenset({'cafe', 'manteiga', 'pao'})"
            ]
          },
          "metadata": {},
          "execution_count": 15
        }
      ]
    },
    {
      "cell_type": "code",
      "metadata": {
        "colab": {
          "base_uri": "https://localhost:8080/"
        },
        "id": "0i4ZcFvEVNAO",
        "outputId": "c22d2d70-b3cd-403e-81a2-e36634553cc7"
      },
      "source": [
        "resultados[2][1]"
      ],
      "execution_count": null,
      "outputs": [
        {
          "output_type": "execute_result",
          "data": {
            "text/plain": [
              "0.3"
            ]
          },
          "metadata": {},
          "execution_count": 16
        }
      ]
    },
    {
      "cell_type": "code",
      "metadata": {
        "colab": {
          "base_uri": "https://localhost:8080/"
        },
        "id": "k_ahz-dcVM9s",
        "outputId": "a4e719ed-e112-42dd-8e48-c19e9088d5df"
      },
      "source": [
        "r = resultados[2][2]\n",
        "r"
      ],
      "execution_count": null,
      "outputs": [
        {
          "output_type": "execute_result",
          "data": {
            "text/plain": [
              "[OrderedStatistic(items_base=frozenset({'cafe'}), items_add=frozenset({'pao', 'manteiga'}), confidence=1.0, lift=2.5),\n",
              " OrderedStatistic(items_base=frozenset({'manteiga', 'cafe'}), items_add=frozenset({'pao'}), confidence=1.0, lift=2.0),\n",
              " OrderedStatistic(items_base=frozenset({'pao', 'cafe'}), items_add=frozenset({'manteiga'}), confidence=1.0, lift=2.0)]"
            ]
          },
          "metadata": {},
          "execution_count": 17
        }
      ]
    },
    {
      "cell_type": "code",
      "metadata": {
        "colab": {
          "base_uri": "https://localhost:8080/"
        },
        "id": "9VPoZj7IVM7G",
        "outputId": "82d1423d-72e2-4f35-d390-97f40d380836"
      },
      "source": [
        "r[2]"
      ],
      "execution_count": null,
      "outputs": [
        {
          "output_type": "execute_result",
          "data": {
            "text/plain": [
              "OrderedStatistic(items_base=frozenset({'pao', 'cafe'}), items_add=frozenset({'manteiga'}), confidence=1.0, lift=2.0)"
            ]
          },
          "metadata": {},
          "execution_count": 18
        }
      ]
    },
    {
      "cell_type": "code",
      "metadata": {
        "colab": {
          "base_uri": "https://localhost:8080/"
        },
        "id": "xk032XmBVM5L",
        "outputId": "e9929389-7364-46cb-ae2c-ec06b7aef498"
      },
      "source": [
        "r[2][0]"
      ],
      "execution_count": null,
      "outputs": [
        {
          "output_type": "execute_result",
          "data": {
            "text/plain": [
              "frozenset({'cafe', 'pao'})"
            ]
          },
          "metadata": {},
          "execution_count": 19
        }
      ]
    },
    {
      "cell_type": "code",
      "metadata": {
        "colab": {
          "base_uri": "https://localhost:8080/"
        },
        "id": "2_cOAxl_VM1x",
        "outputId": "e04189ac-7947-460e-c8d2-f485d965c126"
      },
      "source": [
        "r[2][1]"
      ],
      "execution_count": null,
      "outputs": [
        {
          "output_type": "execute_result",
          "data": {
            "text/plain": [
              "frozenset({'manteiga'})"
            ]
          },
          "metadata": {},
          "execution_count": 20
        }
      ]
    },
    {
      "cell_type": "code",
      "metadata": {
        "colab": {
          "base_uri": "https://localhost:8080/"
        },
        "id": "tfnyg-jCVMzS",
        "outputId": "39cf693a-8c0f-4293-ddc4-650dc44b159f"
      },
      "source": [
        "r[2][2]"
      ],
      "execution_count": null,
      "outputs": [
        {
          "output_type": "execute_result",
          "data": {
            "text/plain": [
              "1.0"
            ]
          },
          "metadata": {},
          "execution_count": 21
        }
      ]
    },
    {
      "cell_type": "code",
      "metadata": {
        "colab": {
          "base_uri": "https://localhost:8080/"
        },
        "id": "N9rxuDfgVMws",
        "outputId": "631f5374-8629-4509-c313-e4503d73dd40"
      },
      "source": [
        "r[2][3]"
      ],
      "execution_count": null,
      "outputs": [
        {
          "output_type": "execute_result",
          "data": {
            "text/plain": [
              "2.0"
            ]
          },
          "metadata": {},
          "execution_count": 22
        }
      ]
    },
    {
      "cell_type": "markdown",
      "metadata": {
        "id": "vVIoWLALVMuN"
      },
      "source": [
        "**Regras de associação - base mercado 3**"
      ]
    },
    {
      "cell_type": "code",
      "metadata": {
        "id": "BTzEtoYbVMos"
      },
      "source": [
        "A = []\n",
        "B = []\n",
        "suporte = []\n",
        "confianca = []\n",
        "lift = []\n",
        "\n",
        "for resultado in resultados:\n",
        "  #print(resultado)\n",
        "  s = resultado[1]\n",
        "  #print(s)\n",
        "  result_rules = resultado[2]\n",
        "  #print(result_rule)\n",
        "  for result_rule in result_rules:\n",
        "    #print(result_rule)\n",
        "    a = list(result_rule[0])\n",
        "    b = list(result_rule[1])\n",
        "    c = result_rule[2]\n",
        "    l = result_rule[3]\n",
        "    #print(a, ' - ', b, ' - ', c, ' - ', l)\n",
        "    A.append(a)\n",
        "    B.append(b)\n",
        "    suporte.append(s)\n",
        "    confianca.append(c)\n",
        "    lift.append(l)"
      ],
      "execution_count": null,
      "outputs": []
    },
    {
      "cell_type": "code",
      "metadata": {
        "colab": {
          "base_uri": "https://localhost:8080/"
        },
        "id": "RrTXFMSpVMmT",
        "outputId": "a3a60b84-2785-419c-f45f-6cf5a222d543"
      },
      "source": [
        "A"
      ],
      "execution_count": null,
      "outputs": [
        {
          "output_type": "execute_result",
          "data": {
            "text/plain": [
              "[['cafe'], ['cafe'], ['cafe'], ['manteiga', 'cafe'], ['pao', 'cafe']]"
            ]
          },
          "metadata": {},
          "execution_count": 25
        }
      ]
    },
    {
      "cell_type": "code",
      "metadata": {
        "colab": {
          "base_uri": "https://localhost:8080/"
        },
        "id": "IKmiMx7vVMi6",
        "outputId": "5e235d44-4672-499c-fcb6-8905fcac0e76"
      },
      "source": [
        "B"
      ],
      "execution_count": null,
      "outputs": [
        {
          "output_type": "execute_result",
          "data": {
            "text/plain": [
              "[['manteiga'], ['pao'], ['pao', 'manteiga'], ['pao'], ['manteiga']]"
            ]
          },
          "metadata": {},
          "execution_count": 26
        }
      ]
    },
    {
      "cell_type": "code",
      "metadata": {
        "colab": {
          "base_uri": "https://localhost:8080/"
        },
        "id": "8WnEbc2gVMdz",
        "outputId": "262e7cdd-8de6-447a-c013-d86bd64930c3"
      },
      "source": [
        "suporte"
      ],
      "execution_count": null,
      "outputs": [
        {
          "output_type": "execute_result",
          "data": {
            "text/plain": [
              "[0.3, 0.3, 0.3, 0.3, 0.3]"
            ]
          },
          "metadata": {},
          "execution_count": 27
        }
      ]
    },
    {
      "cell_type": "code",
      "metadata": {
        "colab": {
          "base_uri": "https://localhost:8080/"
        },
        "id": "N7RumfwSVMa8",
        "outputId": "ed3cc9fa-6629-48f7-b87e-fb38f29e6136"
      },
      "source": [
        "confianca"
      ],
      "execution_count": null,
      "outputs": [
        {
          "output_type": "execute_result",
          "data": {
            "text/plain": [
              "[1.0, 1.0, 1.0, 1.0, 1.0]"
            ]
          },
          "metadata": {},
          "execution_count": 28
        }
      ]
    },
    {
      "cell_type": "code",
      "metadata": {
        "colab": {
          "base_uri": "https://localhost:8080/"
        },
        "id": "jZUZfGJkVMX-",
        "outputId": "5d4c0ded-30db-450f-e90e-b80a6ff8b06e"
      },
      "source": [
        "lift"
      ],
      "execution_count": null,
      "outputs": [
        {
          "output_type": "execute_result",
          "data": {
            "text/plain": [
              "[2.0, 2.0, 2.5, 2.0, 2.0]"
            ]
          },
          "metadata": {},
          "execution_count": 29
        }
      ]
    },
    {
      "cell_type": "code",
      "metadata": {
        "colab": {
          "base_uri": "https://localhost:8080/",
          "height": 205
        },
        "id": "1f1K93gQVMVo",
        "outputId": "e6c8c66b-c3f9-48b5-d801-d8697d04eeea"
      },
      "source": [
        "rules_df = pd.DataFrame({\"A\": A,\n",
        "                         \"B\": B,\n",
        "                         \"Suporte\": suporte,\n",
        "                         \"Confianca\": confianca,\n",
        "                         \"Lift\": lift})\n",
        "rules_df"
      ],
      "execution_count": null,
      "outputs": [
        {
          "output_type": "execute_result",
          "data": {
            "text/html": [
              "<div>\n",
              "<style scoped>\n",
              "    .dataframe tbody tr th:only-of-type {\n",
              "        vertical-align: middle;\n",
              "    }\n",
              "\n",
              "    .dataframe tbody tr th {\n",
              "        vertical-align: top;\n",
              "    }\n",
              "\n",
              "    .dataframe thead th {\n",
              "        text-align: right;\n",
              "    }\n",
              "</style>\n",
              "<table border=\"1\" class=\"dataframe\">\n",
              "  <thead>\n",
              "    <tr style=\"text-align: right;\">\n",
              "      <th></th>\n",
              "      <th>A</th>\n",
              "      <th>B</th>\n",
              "      <th>Suporte</th>\n",
              "      <th>Confianca</th>\n",
              "      <th>Lift</th>\n",
              "    </tr>\n",
              "  </thead>\n",
              "  <tbody>\n",
              "    <tr>\n",
              "      <th>0</th>\n",
              "      <td>[cafe]</td>\n",
              "      <td>[manteiga]</td>\n",
              "      <td>0.3</td>\n",
              "      <td>1.0</td>\n",
              "      <td>2.0</td>\n",
              "    </tr>\n",
              "    <tr>\n",
              "      <th>1</th>\n",
              "      <td>[cafe]</td>\n",
              "      <td>[pao]</td>\n",
              "      <td>0.3</td>\n",
              "      <td>1.0</td>\n",
              "      <td>2.0</td>\n",
              "    </tr>\n",
              "    <tr>\n",
              "      <th>2</th>\n",
              "      <td>[cafe]</td>\n",
              "      <td>[pao, manteiga]</td>\n",
              "      <td>0.3</td>\n",
              "      <td>1.0</td>\n",
              "      <td>2.5</td>\n",
              "    </tr>\n",
              "    <tr>\n",
              "      <th>3</th>\n",
              "      <td>[manteiga, cafe]</td>\n",
              "      <td>[pao]</td>\n",
              "      <td>0.3</td>\n",
              "      <td>1.0</td>\n",
              "      <td>2.0</td>\n",
              "    </tr>\n",
              "    <tr>\n",
              "      <th>4</th>\n",
              "      <td>[pao, cafe]</td>\n",
              "      <td>[manteiga]</td>\n",
              "      <td>0.3</td>\n",
              "      <td>1.0</td>\n",
              "      <td>2.0</td>\n",
              "    </tr>\n",
              "  </tbody>\n",
              "</table>\n",
              "</div>"
            ],
            "text/plain": [
              "                  A                B  Suporte  Confianca  Lift\n",
              "0            [cafe]       [manteiga]      0.3        1.0   2.0\n",
              "1            [cafe]            [pao]      0.3        1.0   2.0\n",
              "2            [cafe]  [pao, manteiga]      0.3        1.0   2.5\n",
              "3  [manteiga, cafe]            [pao]      0.3        1.0   2.0\n",
              "4       [pao, cafe]       [manteiga]      0.3        1.0   2.0"
            ]
          },
          "metadata": {},
          "execution_count": 30
        }
      ]
    },
    {
      "cell_type": "code",
      "metadata": {
        "colab": {
          "base_uri": "https://localhost:8080/",
          "height": 205
        },
        "id": "Hey3WYqZVMQT",
        "outputId": "187f3272-b1b7-4233-f440-4e6b16488cad"
      },
      "source": [
        "rules_df.sort_values(by='Lift', ascending=False)"
      ],
      "execution_count": null,
      "outputs": [
        {
          "output_type": "execute_result",
          "data": {
            "text/html": [
              "<div>\n",
              "<style scoped>\n",
              "    .dataframe tbody tr th:only-of-type {\n",
              "        vertical-align: middle;\n",
              "    }\n",
              "\n",
              "    .dataframe tbody tr th {\n",
              "        vertical-align: top;\n",
              "    }\n",
              "\n",
              "    .dataframe thead th {\n",
              "        text-align: right;\n",
              "    }\n",
              "</style>\n",
              "<table border=\"1\" class=\"dataframe\">\n",
              "  <thead>\n",
              "    <tr style=\"text-align: right;\">\n",
              "      <th></th>\n",
              "      <th>A</th>\n",
              "      <th>B</th>\n",
              "      <th>Suporte</th>\n",
              "      <th>Confianca</th>\n",
              "      <th>Lift</th>\n",
              "    </tr>\n",
              "  </thead>\n",
              "  <tbody>\n",
              "    <tr>\n",
              "      <th>2</th>\n",
              "      <td>[cafe]</td>\n",
              "      <td>[pao, manteiga]</td>\n",
              "      <td>0.3</td>\n",
              "      <td>1.0</td>\n",
              "      <td>2.5</td>\n",
              "    </tr>\n",
              "    <tr>\n",
              "      <th>0</th>\n",
              "      <td>[cafe]</td>\n",
              "      <td>[manteiga]</td>\n",
              "      <td>0.3</td>\n",
              "      <td>1.0</td>\n",
              "      <td>2.0</td>\n",
              "    </tr>\n",
              "    <tr>\n",
              "      <th>1</th>\n",
              "      <td>[cafe]</td>\n",
              "      <td>[pao]</td>\n",
              "      <td>0.3</td>\n",
              "      <td>1.0</td>\n",
              "      <td>2.0</td>\n",
              "    </tr>\n",
              "    <tr>\n",
              "      <th>3</th>\n",
              "      <td>[manteiga, cafe]</td>\n",
              "      <td>[pao]</td>\n",
              "      <td>0.3</td>\n",
              "      <td>1.0</td>\n",
              "      <td>2.0</td>\n",
              "    </tr>\n",
              "    <tr>\n",
              "      <th>4</th>\n",
              "      <td>[pao, cafe]</td>\n",
              "      <td>[manteiga]</td>\n",
              "      <td>0.3</td>\n",
              "      <td>1.0</td>\n",
              "      <td>2.0</td>\n",
              "    </tr>\n",
              "  </tbody>\n",
              "</table>\n",
              "</div>"
            ],
            "text/plain": [
              "                  A                B  Suporte  Confianca  Lift\n",
              "2            [cafe]  [pao, manteiga]      0.3        1.0   2.5\n",
              "0            [cafe]       [manteiga]      0.3        1.0   2.0\n",
              "1            [cafe]            [pao]      0.3        1.0   2.0\n",
              "3  [manteiga, cafe]            [pao]      0.3        1.0   2.0\n",
              "4       [pao, cafe]       [manteiga]      0.3        1.0   2.0"
            ]
          },
          "metadata": {},
          "execution_count": 31
        }
      ]
    },
    {
      "cell_type": "markdown",
      "metadata": {
        "id": "KKO443_kn9jv"
      },
      "source": [
        "**Regras de associação - base mercado 4**"
      ]
    },
    {
      "cell_type": "code",
      "metadata": {
        "colab": {
          "base_uri": "https://localhost:8080/",
          "height": 544
        },
        "id": "fS9PE-MXVMNw",
        "outputId": "83180cbf-d43a-4fb3-bc79-a3aab49ba8d4"
      },
      "source": [
        "base_mercado2 = pd.read_csv('/content/mercado2.csv', header=None)\n",
        "base_mercado2"
      ],
      "execution_count": null,
      "outputs": [
        {
          "output_type": "execute_result",
          "data": {
            "text/html": [
              "<div>\n",
              "<style scoped>\n",
              "    .dataframe tbody tr th:only-of-type {\n",
              "        vertical-align: middle;\n",
              "    }\n",
              "\n",
              "    .dataframe tbody tr th {\n",
              "        vertical-align: top;\n",
              "    }\n",
              "\n",
              "    .dataframe thead th {\n",
              "        text-align: right;\n",
              "    }\n",
              "</style>\n",
              "<table border=\"1\" class=\"dataframe\">\n",
              "  <thead>\n",
              "    <tr style=\"text-align: right;\">\n",
              "      <th></th>\n",
              "      <th>0</th>\n",
              "      <th>1</th>\n",
              "      <th>2</th>\n",
              "      <th>3</th>\n",
              "      <th>4</th>\n",
              "      <th>5</th>\n",
              "      <th>6</th>\n",
              "      <th>7</th>\n",
              "      <th>8</th>\n",
              "      <th>9</th>\n",
              "      <th>10</th>\n",
              "      <th>11</th>\n",
              "      <th>12</th>\n",
              "      <th>13</th>\n",
              "      <th>14</th>\n",
              "      <th>15</th>\n",
              "      <th>16</th>\n",
              "      <th>17</th>\n",
              "      <th>18</th>\n",
              "      <th>19</th>\n",
              "    </tr>\n",
              "  </thead>\n",
              "  <tbody>\n",
              "    <tr>\n",
              "      <th>0</th>\n",
              "      <td>shrimp</td>\n",
              "      <td>almonds</td>\n",
              "      <td>avocado</td>\n",
              "      <td>vegetables mix</td>\n",
              "      <td>green grapes</td>\n",
              "      <td>whole weat flour</td>\n",
              "      <td>yams</td>\n",
              "      <td>cottage cheese</td>\n",
              "      <td>energy drink</td>\n",
              "      <td>tomato juice</td>\n",
              "      <td>low fat yogurt</td>\n",
              "      <td>green tea</td>\n",
              "      <td>honey</td>\n",
              "      <td>salad</td>\n",
              "      <td>mineral water</td>\n",
              "      <td>salmon</td>\n",
              "      <td>antioxydant juice</td>\n",
              "      <td>frozen smoothie</td>\n",
              "      <td>spinach</td>\n",
              "      <td>olive oil</td>\n",
              "    </tr>\n",
              "    <tr>\n",
              "      <th>1</th>\n",
              "      <td>burgers</td>\n",
              "      <td>meatballs</td>\n",
              "      <td>eggs</td>\n",
              "      <td>NaN</td>\n",
              "      <td>NaN</td>\n",
              "      <td>NaN</td>\n",
              "      <td>NaN</td>\n",
              "      <td>NaN</td>\n",
              "      <td>NaN</td>\n",
              "      <td>NaN</td>\n",
              "      <td>NaN</td>\n",
              "      <td>NaN</td>\n",
              "      <td>NaN</td>\n",
              "      <td>NaN</td>\n",
              "      <td>NaN</td>\n",
              "      <td>NaN</td>\n",
              "      <td>NaN</td>\n",
              "      <td>NaN</td>\n",
              "      <td>NaN</td>\n",
              "      <td>NaN</td>\n",
              "    </tr>\n",
              "    <tr>\n",
              "      <th>2</th>\n",
              "      <td>chutney</td>\n",
              "      <td>NaN</td>\n",
              "      <td>NaN</td>\n",
              "      <td>NaN</td>\n",
              "      <td>NaN</td>\n",
              "      <td>NaN</td>\n",
              "      <td>NaN</td>\n",
              "      <td>NaN</td>\n",
              "      <td>NaN</td>\n",
              "      <td>NaN</td>\n",
              "      <td>NaN</td>\n",
              "      <td>NaN</td>\n",
              "      <td>NaN</td>\n",
              "      <td>NaN</td>\n",
              "      <td>NaN</td>\n",
              "      <td>NaN</td>\n",
              "      <td>NaN</td>\n",
              "      <td>NaN</td>\n",
              "      <td>NaN</td>\n",
              "      <td>NaN</td>\n",
              "    </tr>\n",
              "    <tr>\n",
              "      <th>3</th>\n",
              "      <td>turkey</td>\n",
              "      <td>avocado</td>\n",
              "      <td>NaN</td>\n",
              "      <td>NaN</td>\n",
              "      <td>NaN</td>\n",
              "      <td>NaN</td>\n",
              "      <td>NaN</td>\n",
              "      <td>NaN</td>\n",
              "      <td>NaN</td>\n",
              "      <td>NaN</td>\n",
              "      <td>NaN</td>\n",
              "      <td>NaN</td>\n",
              "      <td>NaN</td>\n",
              "      <td>NaN</td>\n",
              "      <td>NaN</td>\n",
              "      <td>NaN</td>\n",
              "      <td>NaN</td>\n",
              "      <td>NaN</td>\n",
              "      <td>NaN</td>\n",
              "      <td>NaN</td>\n",
              "    </tr>\n",
              "    <tr>\n",
              "      <th>4</th>\n",
              "      <td>mineral water</td>\n",
              "      <td>milk</td>\n",
              "      <td>energy bar</td>\n",
              "      <td>whole wheat rice</td>\n",
              "      <td>green tea</td>\n",
              "      <td>NaN</td>\n",
              "      <td>NaN</td>\n",
              "      <td>NaN</td>\n",
              "      <td>NaN</td>\n",
              "      <td>NaN</td>\n",
              "      <td>NaN</td>\n",
              "      <td>NaN</td>\n",
              "      <td>NaN</td>\n",
              "      <td>NaN</td>\n",
              "      <td>NaN</td>\n",
              "      <td>NaN</td>\n",
              "      <td>NaN</td>\n",
              "      <td>NaN</td>\n",
              "      <td>NaN</td>\n",
              "      <td>NaN</td>\n",
              "    </tr>\n",
              "    <tr>\n",
              "      <th>...</th>\n",
              "      <td>...</td>\n",
              "      <td>...</td>\n",
              "      <td>...</td>\n",
              "      <td>...</td>\n",
              "      <td>...</td>\n",
              "      <td>...</td>\n",
              "      <td>...</td>\n",
              "      <td>...</td>\n",
              "      <td>...</td>\n",
              "      <td>...</td>\n",
              "      <td>...</td>\n",
              "      <td>...</td>\n",
              "      <td>...</td>\n",
              "      <td>...</td>\n",
              "      <td>...</td>\n",
              "      <td>...</td>\n",
              "      <td>...</td>\n",
              "      <td>...</td>\n",
              "      <td>...</td>\n",
              "      <td>...</td>\n",
              "    </tr>\n",
              "    <tr>\n",
              "      <th>7496</th>\n",
              "      <td>butter</td>\n",
              "      <td>light mayo</td>\n",
              "      <td>fresh bread</td>\n",
              "      <td>NaN</td>\n",
              "      <td>NaN</td>\n",
              "      <td>NaN</td>\n",
              "      <td>NaN</td>\n",
              "      <td>NaN</td>\n",
              "      <td>NaN</td>\n",
              "      <td>NaN</td>\n",
              "      <td>NaN</td>\n",
              "      <td>NaN</td>\n",
              "      <td>NaN</td>\n",
              "      <td>NaN</td>\n",
              "      <td>NaN</td>\n",
              "      <td>NaN</td>\n",
              "      <td>NaN</td>\n",
              "      <td>NaN</td>\n",
              "      <td>NaN</td>\n",
              "      <td>NaN</td>\n",
              "    </tr>\n",
              "    <tr>\n",
              "      <th>7497</th>\n",
              "      <td>burgers</td>\n",
              "      <td>frozen vegetables</td>\n",
              "      <td>eggs</td>\n",
              "      <td>french fries</td>\n",
              "      <td>magazines</td>\n",
              "      <td>green tea</td>\n",
              "      <td>NaN</td>\n",
              "      <td>NaN</td>\n",
              "      <td>NaN</td>\n",
              "      <td>NaN</td>\n",
              "      <td>NaN</td>\n",
              "      <td>NaN</td>\n",
              "      <td>NaN</td>\n",
              "      <td>NaN</td>\n",
              "      <td>NaN</td>\n",
              "      <td>NaN</td>\n",
              "      <td>NaN</td>\n",
              "      <td>NaN</td>\n",
              "      <td>NaN</td>\n",
              "      <td>NaN</td>\n",
              "    </tr>\n",
              "    <tr>\n",
              "      <th>7498</th>\n",
              "      <td>chicken</td>\n",
              "      <td>NaN</td>\n",
              "      <td>NaN</td>\n",
              "      <td>NaN</td>\n",
              "      <td>NaN</td>\n",
              "      <td>NaN</td>\n",
              "      <td>NaN</td>\n",
              "      <td>NaN</td>\n",
              "      <td>NaN</td>\n",
              "      <td>NaN</td>\n",
              "      <td>NaN</td>\n",
              "      <td>NaN</td>\n",
              "      <td>NaN</td>\n",
              "      <td>NaN</td>\n",
              "      <td>NaN</td>\n",
              "      <td>NaN</td>\n",
              "      <td>NaN</td>\n",
              "      <td>NaN</td>\n",
              "      <td>NaN</td>\n",
              "      <td>NaN</td>\n",
              "    </tr>\n",
              "    <tr>\n",
              "      <th>7499</th>\n",
              "      <td>escalope</td>\n",
              "      <td>green tea</td>\n",
              "      <td>NaN</td>\n",
              "      <td>NaN</td>\n",
              "      <td>NaN</td>\n",
              "      <td>NaN</td>\n",
              "      <td>NaN</td>\n",
              "      <td>NaN</td>\n",
              "      <td>NaN</td>\n",
              "      <td>NaN</td>\n",
              "      <td>NaN</td>\n",
              "      <td>NaN</td>\n",
              "      <td>NaN</td>\n",
              "      <td>NaN</td>\n",
              "      <td>NaN</td>\n",
              "      <td>NaN</td>\n",
              "      <td>NaN</td>\n",
              "      <td>NaN</td>\n",
              "      <td>NaN</td>\n",
              "      <td>NaN</td>\n",
              "    </tr>\n",
              "    <tr>\n",
              "      <th>7500</th>\n",
              "      <td>eggs</td>\n",
              "      <td>frozen smoothie</td>\n",
              "      <td>yogurt cake</td>\n",
              "      <td>low fat yogurt</td>\n",
              "      <td>NaN</td>\n",
              "      <td>NaN</td>\n",
              "      <td>NaN</td>\n",
              "      <td>NaN</td>\n",
              "      <td>NaN</td>\n",
              "      <td>NaN</td>\n",
              "      <td>NaN</td>\n",
              "      <td>NaN</td>\n",
              "      <td>NaN</td>\n",
              "      <td>NaN</td>\n",
              "      <td>NaN</td>\n",
              "      <td>NaN</td>\n",
              "      <td>NaN</td>\n",
              "      <td>NaN</td>\n",
              "      <td>NaN</td>\n",
              "      <td>NaN</td>\n",
              "    </tr>\n",
              "  </tbody>\n",
              "</table>\n",
              "<p>7501 rows × 20 columns</p>\n",
              "</div>"
            ],
            "text/plain": [
              "                 0                  1   ...       18         19\n",
              "0            shrimp            almonds  ...  spinach  olive oil\n",
              "1           burgers          meatballs  ...      NaN        NaN\n",
              "2           chutney                NaN  ...      NaN        NaN\n",
              "3            turkey            avocado  ...      NaN        NaN\n",
              "4     mineral water               milk  ...      NaN        NaN\n",
              "...             ...                ...  ...      ...        ...\n",
              "7496         butter         light mayo  ...      NaN        NaN\n",
              "7497        burgers  frozen vegetables  ...      NaN        NaN\n",
              "7498        chicken                NaN  ...      NaN        NaN\n",
              "7499       escalope          green tea  ...      NaN        NaN\n",
              "7500           eggs    frozen smoothie  ...      NaN        NaN\n",
              "\n",
              "[7501 rows x 20 columns]"
            ]
          },
          "metadata": {},
          "execution_count": 32
        }
      ]
    },
    {
      "cell_type": "code",
      "metadata": {
        "colab": {
          "base_uri": "https://localhost:8080/"
        },
        "id": "P4EyodFaosZf",
        "outputId": "4b359a57-b0d8-4556-9664-6b478f6313cb"
      },
      "source": [
        "base_mercado2.shape"
      ],
      "execution_count": null,
      "outputs": [
        {
          "output_type": "execute_result",
          "data": {
            "text/plain": [
              "(7501, 20)"
            ]
          },
          "metadata": {},
          "execution_count": 33
        }
      ]
    },
    {
      "cell_type": "code",
      "metadata": {
        "id": "J7dQ67ERneJ4"
      },
      "source": [
        "transacoes = []\n",
        "for i in range(base_mercado1.shape[0]):\n",
        "  transacoes.append([str(base_mercado2.values[i, j]) for j in range(base_mercado2.shape[1])])"
      ],
      "execution_count": null,
      "outputs": []
    },
    {
      "cell_type": "code",
      "metadata": {
        "colab": {
          "base_uri": "https://localhost:8080/"
        },
        "id": "XoF3AUXJnePz",
        "outputId": "9193d7e9-e7e8-4349-a6f0-748d1675b06e"
      },
      "source": [
        "transacoes"
      ],
      "execution_count": null,
      "outputs": [
        {
          "output_type": "execute_result",
          "data": {
            "text/plain": [
              "[['shrimp',\n",
              "  'almonds',\n",
              "  'avocado',\n",
              "  'vegetables mix',\n",
              "  'green grapes',\n",
              "  'whole weat flour',\n",
              "  'yams',\n",
              "  'cottage cheese',\n",
              "  'energy drink',\n",
              "  'tomato juice',\n",
              "  'low fat yogurt',\n",
              "  'green tea',\n",
              "  'honey',\n",
              "  'salad',\n",
              "  'mineral water',\n",
              "  'salmon',\n",
              "  'antioxydant juice',\n",
              "  'frozen smoothie',\n",
              "  'spinach',\n",
              "  'olive oil'],\n",
              " ['burgers',\n",
              "  'meatballs',\n",
              "  'eggs',\n",
              "  'nan',\n",
              "  'nan',\n",
              "  'nan',\n",
              "  'nan',\n",
              "  'nan',\n",
              "  'nan',\n",
              "  'nan',\n",
              "  'nan',\n",
              "  'nan',\n",
              "  'nan',\n",
              "  'nan',\n",
              "  'nan',\n",
              "  'nan',\n",
              "  'nan',\n",
              "  'nan',\n",
              "  'nan',\n",
              "  'nan'],\n",
              " ['chutney',\n",
              "  'nan',\n",
              "  'nan',\n",
              "  'nan',\n",
              "  'nan',\n",
              "  'nan',\n",
              "  'nan',\n",
              "  'nan',\n",
              "  'nan',\n",
              "  'nan',\n",
              "  'nan',\n",
              "  'nan',\n",
              "  'nan',\n",
              "  'nan',\n",
              "  'nan',\n",
              "  'nan',\n",
              "  'nan',\n",
              "  'nan',\n",
              "  'nan',\n",
              "  'nan'],\n",
              " ['turkey',\n",
              "  'avocado',\n",
              "  'nan',\n",
              "  'nan',\n",
              "  'nan',\n",
              "  'nan',\n",
              "  'nan',\n",
              "  'nan',\n",
              "  'nan',\n",
              "  'nan',\n",
              "  'nan',\n",
              "  'nan',\n",
              "  'nan',\n",
              "  'nan',\n",
              "  'nan',\n",
              "  'nan',\n",
              "  'nan',\n",
              "  'nan',\n",
              "  'nan',\n",
              "  'nan'],\n",
              " ['mineral water',\n",
              "  'milk',\n",
              "  'energy bar',\n",
              "  'whole wheat rice',\n",
              "  'green tea',\n",
              "  'nan',\n",
              "  'nan',\n",
              "  'nan',\n",
              "  'nan',\n",
              "  'nan',\n",
              "  'nan',\n",
              "  'nan',\n",
              "  'nan',\n",
              "  'nan',\n",
              "  'nan',\n",
              "  'nan',\n",
              "  'nan',\n",
              "  'nan',\n",
              "  'nan',\n",
              "  'nan'],\n",
              " ['low fat yogurt',\n",
              "  'nan',\n",
              "  'nan',\n",
              "  'nan',\n",
              "  'nan',\n",
              "  'nan',\n",
              "  'nan',\n",
              "  'nan',\n",
              "  'nan',\n",
              "  'nan',\n",
              "  'nan',\n",
              "  'nan',\n",
              "  'nan',\n",
              "  'nan',\n",
              "  'nan',\n",
              "  'nan',\n",
              "  'nan',\n",
              "  'nan',\n",
              "  'nan',\n",
              "  'nan'],\n",
              " ['whole wheat pasta',\n",
              "  'french fries',\n",
              "  'nan',\n",
              "  'nan',\n",
              "  'nan',\n",
              "  'nan',\n",
              "  'nan',\n",
              "  'nan',\n",
              "  'nan',\n",
              "  'nan',\n",
              "  'nan',\n",
              "  'nan',\n",
              "  'nan',\n",
              "  'nan',\n",
              "  'nan',\n",
              "  'nan',\n",
              "  'nan',\n",
              "  'nan',\n",
              "  'nan',\n",
              "  'nan'],\n",
              " ['soup',\n",
              "  'light cream',\n",
              "  'shallot',\n",
              "  'nan',\n",
              "  'nan',\n",
              "  'nan',\n",
              "  'nan',\n",
              "  'nan',\n",
              "  'nan',\n",
              "  'nan',\n",
              "  'nan',\n",
              "  'nan',\n",
              "  'nan',\n",
              "  'nan',\n",
              "  'nan',\n",
              "  'nan',\n",
              "  'nan',\n",
              "  'nan',\n",
              "  'nan',\n",
              "  'nan'],\n",
              " ['frozen vegetables',\n",
              "  'spaghetti',\n",
              "  'green tea',\n",
              "  'nan',\n",
              "  'nan',\n",
              "  'nan',\n",
              "  'nan',\n",
              "  'nan',\n",
              "  'nan',\n",
              "  'nan',\n",
              "  'nan',\n",
              "  'nan',\n",
              "  'nan',\n",
              "  'nan',\n",
              "  'nan',\n",
              "  'nan',\n",
              "  'nan',\n",
              "  'nan',\n",
              "  'nan',\n",
              "  'nan'],\n",
              " ['french fries',\n",
              "  'nan',\n",
              "  'nan',\n",
              "  'nan',\n",
              "  'nan',\n",
              "  'nan',\n",
              "  'nan',\n",
              "  'nan',\n",
              "  'nan',\n",
              "  'nan',\n",
              "  'nan',\n",
              "  'nan',\n",
              "  'nan',\n",
              "  'nan',\n",
              "  'nan',\n",
              "  'nan',\n",
              "  'nan',\n",
              "  'nan',\n",
              "  'nan',\n",
              "  'nan']]"
            ]
          },
          "metadata": {},
          "execution_count": 35
        }
      ]
    },
    {
      "cell_type": "code",
      "metadata": {
        "colab": {
          "base_uri": "https://localhost:8080/"
        },
        "id": "D-txuv6mneUb",
        "outputId": "d84b353f-9aed-4a29-9566-09e35ea28482"
      },
      "source": [
        "regras = apriori(transacoes, min_support=0.3, min_confidence=0.2, min_lift=3)\n",
        "resultadoS = list(regras)\n",
        "len(resultados)"
      ],
      "execution_count": null,
      "outputs": [
        {
          "output_type": "execute_result",
          "data": {
            "text/plain": [
              "0"
            ]
          },
          "metadata": {},
          "execution_count": 44
        }
      ]
    },
    {
      "cell_type": "code",
      "metadata": {
        "id": "Pa2BsQigneZW"
      },
      "source": [
        "A = []\n",
        "B = []\n",
        "suporte = []\n",
        "confianca = []\n",
        "lift = []\n",
        "\n",
        "for resultado in resultados:\n",
        "  #print(resultado)\n",
        "  s = resultado[1]\n",
        "  #print(s)\n",
        "  result_rules = resultado[2]\n",
        "  #print(result_rule)\n",
        "  for result_rule in result_rules:\n",
        "    #print(result_rule)\n",
        "    a = list(result_rule[0])\n",
        "    b = list(result_rule[1])\n",
        "    c = result_rule[2]\n",
        "    l = result_rule[3]\n",
        "    #print(a, ' - ', b, ' - ', c, ' - ', l)\n",
        "    A.append(a)\n",
        "    B.append(b)\n",
        "    suporte.append(s)\n",
        "    confianca.append(c)\n",
        "    lift.append(l)"
      ],
      "execution_count": null,
      "outputs": []
    },
    {
      "cell_type": "code",
      "metadata": {
        "id": "s2DdPxgMneel",
        "colab": {
          "base_uri": "https://localhost:8080/",
          "height": 49
        },
        "outputId": "2d9753f1-beb0-4331-be9e-e4bb3a62b7e2"
      },
      "source": [
        "rules_df = pd.DataFrame({\"A\": A,\n",
        "                         \"B\": B,\n",
        "                         \"Suporte\": suporte,\n",
        "                         \"Confianca\": confianca,\n",
        "                         \"Lift\": lift})\n",
        "rules_df"
      ],
      "execution_count": null,
      "outputs": [
        {
          "output_type": "execute_result",
          "data": {
            "text/html": [
              "<div>\n",
              "<style scoped>\n",
              "    .dataframe tbody tr th:only-of-type {\n",
              "        vertical-align: middle;\n",
              "    }\n",
              "\n",
              "    .dataframe tbody tr th {\n",
              "        vertical-align: top;\n",
              "    }\n",
              "\n",
              "    .dataframe thead th {\n",
              "        text-align: right;\n",
              "    }\n",
              "</style>\n",
              "<table border=\"1\" class=\"dataframe\">\n",
              "  <thead>\n",
              "    <tr style=\"text-align: right;\">\n",
              "      <th></th>\n",
              "      <th>A</th>\n",
              "      <th>B</th>\n",
              "      <th>Suporte</th>\n",
              "      <th>Confianca</th>\n",
              "      <th>Lift</th>\n",
              "    </tr>\n",
              "  </thead>\n",
              "  <tbody>\n",
              "  </tbody>\n",
              "</table>\n",
              "</div>"
            ],
            "text/plain": [
              "Empty DataFrame\n",
              "Columns: [A, B, Suporte, Confianca, Lift]\n",
              "Index: []"
            ]
          },
          "metadata": {},
          "execution_count": 46
        }
      ]
    },
    {
      "cell_type": "markdown",
      "metadata": {
        "id": "OFEJxeF7neju"
      },
      "source": [
        " ECLAT em Python"
      ]
    },
    {
      "cell_type": "code",
      "metadata": {
        "id": "C--_zic-neo7",
        "colab": {
          "base_uri": "https://localhost:8080/"
        },
        "outputId": "44133a84-8bdd-4556-d175-10c656b47fe3"
      },
      "source": [
        "!pip install pyECLAT"
      ],
      "execution_count": null,
      "outputs": [
        {
          "output_type": "stream",
          "text": [
            "Collecting pyECLAT\n",
            "  Downloading pyECLAT-1.0.2-py3-none-any.whl (6.3 kB)\n",
            "Requirement already satisfied: pandas>=0.25.3 in /usr/local/lib/python3.7/dist-packages (from pyECLAT) (1.1.5)\n",
            "Requirement already satisfied: numpy>=1.17.4 in /usr/local/lib/python3.7/dist-packages (from pyECLAT) (1.19.5)\n",
            "Requirement already satisfied: tqdm>=4.41.1 in /usr/local/lib/python3.7/dist-packages (from pyECLAT) (4.62.0)\n",
            "Requirement already satisfied: python-dateutil>=2.7.3 in /usr/local/lib/python3.7/dist-packages (from pandas>=0.25.3->pyECLAT) (2.8.2)\n",
            "Requirement already satisfied: pytz>=2017.2 in /usr/local/lib/python3.7/dist-packages (from pandas>=0.25.3->pyECLAT) (2018.9)\n",
            "Requirement already satisfied: six>=1.5 in /usr/local/lib/python3.7/dist-packages (from python-dateutil>=2.7.3->pandas>=0.25.3->pyECLAT) (1.15.0)\n",
            "Installing collected packages: pyECLAT\n",
            "Successfully installed pyECLAT-1.0.2\n"
          ],
          "name": "stdout"
        }
      ]
    },
    {
      "cell_type": "code",
      "metadata": {
        "id": "P-gzOjOznet6",
        "colab": {
          "base_uri": "https://localhost:8080/",
          "height": 360
        },
        "outputId": "3a5c56bf-13a8-4cd7-b8d6-b769b6799c3c"
      },
      "source": [
        "base_mercado1"
      ],
      "execution_count": null,
      "outputs": [
        {
          "output_type": "execute_result",
          "data": {
            "text/html": [
              "<div>\n",
              "<style scoped>\n",
              "    .dataframe tbody tr th:only-of-type {\n",
              "        vertical-align: middle;\n",
              "    }\n",
              "\n",
              "    .dataframe tbody tr th {\n",
              "        vertical-align: top;\n",
              "    }\n",
              "\n",
              "    .dataframe thead th {\n",
              "        text-align: right;\n",
              "    }\n",
              "</style>\n",
              "<table border=\"1\" class=\"dataframe\">\n",
              "  <thead>\n",
              "    <tr style=\"text-align: right;\">\n",
              "      <th></th>\n",
              "      <th>0</th>\n",
              "      <th>1</th>\n",
              "      <th>2</th>\n",
              "      <th>3</th>\n",
              "    </tr>\n",
              "  </thead>\n",
              "  <tbody>\n",
              "    <tr>\n",
              "      <th>0</th>\n",
              "      <td>leite</td>\n",
              "      <td>cerveja</td>\n",
              "      <td>pao</td>\n",
              "      <td>manteiga</td>\n",
              "    </tr>\n",
              "    <tr>\n",
              "      <th>1</th>\n",
              "      <td>cafe</td>\n",
              "      <td>pao</td>\n",
              "      <td>manteiga</td>\n",
              "      <td>NaN</td>\n",
              "    </tr>\n",
              "    <tr>\n",
              "      <th>2</th>\n",
              "      <td>cafe</td>\n",
              "      <td>pao</td>\n",
              "      <td>manteiga</td>\n",
              "      <td>NaN</td>\n",
              "    </tr>\n",
              "    <tr>\n",
              "      <th>3</th>\n",
              "      <td>leite</td>\n",
              "      <td>cafe</td>\n",
              "      <td>pao</td>\n",
              "      <td>manteiga</td>\n",
              "    </tr>\n",
              "    <tr>\n",
              "      <th>4</th>\n",
              "      <td>cerveja</td>\n",
              "      <td>NaN</td>\n",
              "      <td>NaN</td>\n",
              "      <td>NaN</td>\n",
              "    </tr>\n",
              "    <tr>\n",
              "      <th>5</th>\n",
              "      <td>manteiga</td>\n",
              "      <td>NaN</td>\n",
              "      <td>NaN</td>\n",
              "      <td>NaN</td>\n",
              "    </tr>\n",
              "    <tr>\n",
              "      <th>6</th>\n",
              "      <td>pao</td>\n",
              "      <td>NaN</td>\n",
              "      <td>NaN</td>\n",
              "      <td>NaN</td>\n",
              "    </tr>\n",
              "    <tr>\n",
              "      <th>7</th>\n",
              "      <td>feijao</td>\n",
              "      <td>NaN</td>\n",
              "      <td>NaN</td>\n",
              "      <td>NaN</td>\n",
              "    </tr>\n",
              "    <tr>\n",
              "      <th>8</th>\n",
              "      <td>arroz</td>\n",
              "      <td>feijao</td>\n",
              "      <td>NaN</td>\n",
              "      <td>NaN</td>\n",
              "    </tr>\n",
              "    <tr>\n",
              "      <th>9</th>\n",
              "      <td>arroz</td>\n",
              "      <td>NaN</td>\n",
              "      <td>NaN</td>\n",
              "      <td>NaN</td>\n",
              "    </tr>\n",
              "  </tbody>\n",
              "</table>\n",
              "</div>"
            ],
            "text/plain": [
              "          0        1         2         3\n",
              "0     leite  cerveja       pao  manteiga\n",
              "1      cafe      pao  manteiga       NaN\n",
              "2      cafe      pao  manteiga       NaN\n",
              "3     leite     cafe       pao  manteiga\n",
              "4   cerveja      NaN       NaN       NaN\n",
              "5  manteiga      NaN       NaN       NaN\n",
              "6       pao      NaN       NaN       NaN\n",
              "7    feijao      NaN       NaN       NaN\n",
              "8     arroz   feijao       NaN       NaN\n",
              "9     arroz      NaN       NaN       NaN"
            ]
          },
          "metadata": {},
          "execution_count": 48
        }
      ]
    },
    {
      "cell_type": "code",
      "metadata": {
        "id": "7Cs3f0NnnezZ"
      },
      "source": [
        "from pyECLAT import  ECLAT"
      ],
      "execution_count": null,
      "outputs": []
    },
    {
      "cell_type": "code",
      "metadata": {
        "id": "fTPBA_vsne39",
        "colab": {
          "base_uri": "https://localhost:8080/"
        },
        "outputId": "31fd58aa-1345-4330-be1b-a97c060af45d"
      },
      "source": [
        "eclat = ECLAT(data=base_mercado1)\n",
        "eclat"
      ],
      "execution_count": null,
      "outputs": [
        {
          "output_type": "execute_result",
          "data": {
            "text/plain": [
              "<pyECLAT.pyECLAT.ECLAT at 0x7f2c374ad510>"
            ]
          },
          "metadata": {},
          "execution_count": 51
        }
      ]
    },
    {
      "cell_type": "code",
      "metadata": {
        "id": "BwhO02AZne9L",
        "colab": {
          "base_uri": "https://localhost:8080/",
          "height": 360
        },
        "outputId": "bb657616-d2dd-4fa8-d78b-a5294db8307f"
      },
      "source": [
        "eclat.df_bin"
      ],
      "execution_count": null,
      "outputs": [
        {
          "output_type": "execute_result",
          "data": {
            "text/html": [
              "<div>\n",
              "<style scoped>\n",
              "    .dataframe tbody tr th:only-of-type {\n",
              "        vertical-align: middle;\n",
              "    }\n",
              "\n",
              "    .dataframe tbody tr th {\n",
              "        vertical-align: top;\n",
              "    }\n",
              "\n",
              "    .dataframe thead th {\n",
              "        text-align: right;\n",
              "    }\n",
              "</style>\n",
              "<table border=\"1\" class=\"dataframe\">\n",
              "  <thead>\n",
              "    <tr style=\"text-align: right;\">\n",
              "      <th></th>\n",
              "      <th>pao</th>\n",
              "      <th>manteiga</th>\n",
              "      <th>arroz</th>\n",
              "      <th>feijao</th>\n",
              "      <th>cafe</th>\n",
              "      <th>leite</th>\n",
              "      <th>cerveja</th>\n",
              "    </tr>\n",
              "  </thead>\n",
              "  <tbody>\n",
              "    <tr>\n",
              "      <th>0</th>\n",
              "      <td>1</td>\n",
              "      <td>1</td>\n",
              "      <td>0</td>\n",
              "      <td>0</td>\n",
              "      <td>0</td>\n",
              "      <td>1</td>\n",
              "      <td>1</td>\n",
              "    </tr>\n",
              "    <tr>\n",
              "      <th>1</th>\n",
              "      <td>1</td>\n",
              "      <td>1</td>\n",
              "      <td>0</td>\n",
              "      <td>0</td>\n",
              "      <td>1</td>\n",
              "      <td>0</td>\n",
              "      <td>0</td>\n",
              "    </tr>\n",
              "    <tr>\n",
              "      <th>2</th>\n",
              "      <td>1</td>\n",
              "      <td>1</td>\n",
              "      <td>0</td>\n",
              "      <td>0</td>\n",
              "      <td>1</td>\n",
              "      <td>0</td>\n",
              "      <td>0</td>\n",
              "    </tr>\n",
              "    <tr>\n",
              "      <th>3</th>\n",
              "      <td>1</td>\n",
              "      <td>1</td>\n",
              "      <td>0</td>\n",
              "      <td>0</td>\n",
              "      <td>1</td>\n",
              "      <td>1</td>\n",
              "      <td>0</td>\n",
              "    </tr>\n",
              "    <tr>\n",
              "      <th>4</th>\n",
              "      <td>0</td>\n",
              "      <td>0</td>\n",
              "      <td>0</td>\n",
              "      <td>0</td>\n",
              "      <td>0</td>\n",
              "      <td>0</td>\n",
              "      <td>1</td>\n",
              "    </tr>\n",
              "    <tr>\n",
              "      <th>5</th>\n",
              "      <td>0</td>\n",
              "      <td>1</td>\n",
              "      <td>0</td>\n",
              "      <td>0</td>\n",
              "      <td>0</td>\n",
              "      <td>0</td>\n",
              "      <td>0</td>\n",
              "    </tr>\n",
              "    <tr>\n",
              "      <th>6</th>\n",
              "      <td>1</td>\n",
              "      <td>0</td>\n",
              "      <td>0</td>\n",
              "      <td>0</td>\n",
              "      <td>0</td>\n",
              "      <td>0</td>\n",
              "      <td>0</td>\n",
              "    </tr>\n",
              "    <tr>\n",
              "      <th>7</th>\n",
              "      <td>0</td>\n",
              "      <td>0</td>\n",
              "      <td>0</td>\n",
              "      <td>1</td>\n",
              "      <td>0</td>\n",
              "      <td>0</td>\n",
              "      <td>0</td>\n",
              "    </tr>\n",
              "    <tr>\n",
              "      <th>8</th>\n",
              "      <td>0</td>\n",
              "      <td>0</td>\n",
              "      <td>1</td>\n",
              "      <td>1</td>\n",
              "      <td>0</td>\n",
              "      <td>0</td>\n",
              "      <td>0</td>\n",
              "    </tr>\n",
              "    <tr>\n",
              "      <th>9</th>\n",
              "      <td>0</td>\n",
              "      <td>0</td>\n",
              "      <td>1</td>\n",
              "      <td>0</td>\n",
              "      <td>0</td>\n",
              "      <td>0</td>\n",
              "      <td>0</td>\n",
              "    </tr>\n",
              "  </tbody>\n",
              "</table>\n",
              "</div>"
            ],
            "text/plain": [
              "   pao  manteiga  arroz  feijao  cafe  leite  cerveja\n",
              "0    1         1      0       0     0      1        1\n",
              "1    1         1      0       0     1      0        0\n",
              "2    1         1      0       0     1      0        0\n",
              "3    1         1      0       0     1      1        0\n",
              "4    0         0      0       0     0      0        1\n",
              "5    0         1      0       0     0      0        0\n",
              "6    1         0      0       0     0      0        0\n",
              "7    0         0      0       1     0      0        0\n",
              "8    0         0      1       1     0      0        0\n",
              "9    0         0      1       0     0      0        0"
            ]
          },
          "metadata": {},
          "execution_count": 52
        }
      ]
    },
    {
      "cell_type": "code",
      "metadata": {
        "id": "-MPyiQt2nfCo",
        "colab": {
          "base_uri": "https://localhost:8080/"
        },
        "outputId": "494ff06c-3960-4e82-966f-f7c41c4b2376"
      },
      "source": [
        "eclat.uniq_"
      ],
      "execution_count": null,
      "outputs": [
        {
          "output_type": "execute_result",
          "data": {
            "text/plain": [
              "[nan, 'pao', 'manteiga', 'arroz', 'feijao', 'cafe', 'leite', 'cerveja']"
            ]
          },
          "metadata": {},
          "execution_count": 53
        }
      ]
    },
    {
      "cell_type": "code",
      "metadata": {
        "id": "UUFnySdfnfG2",
        "colab": {
          "base_uri": "https://localhost:8080/"
        },
        "outputId": "1e072337-8183-4396-f6f9-7cd3dcf62330"
      },
      "source": [
        "indices, suporte = eclat.fit(min_support=0.3, min_combination=2, max_combination=4)"
      ],
      "execution_count": null,
      "outputs": [
        {
          "output_type": "stream",
          "text": [
            "Combination 2 by 2\n"
          ],
          "name": "stdout"
        },
        {
          "output_type": "stream",
          "text": [
            "3it [00:00, 66.77it/s]\n"
          ],
          "name": "stderr"
        },
        {
          "output_type": "stream",
          "text": [
            "Combination 3 by 3\n"
          ],
          "name": "stdout"
        },
        {
          "output_type": "stream",
          "text": [
            "1it [00:00, 54.74it/s]\n"
          ],
          "name": "stderr"
        },
        {
          "output_type": "stream",
          "text": [
            "Combination 4 by 4\n"
          ],
          "name": "stdout"
        },
        {
          "output_type": "stream",
          "text": [
            "0it [00:00, ?it/s]\n"
          ],
          "name": "stderr"
        }
      ]
    },
    {
      "cell_type": "code",
      "metadata": {
        "id": "h3xvx0GenfL2",
        "colab": {
          "base_uri": "https://localhost:8080/"
        },
        "outputId": "28a9614c-3666-4598-a6b0-82712175a7f5"
      },
      "source": [
        "indices"
      ],
      "execution_count": null,
      "outputs": [
        {
          "output_type": "execute_result",
          "data": {
            "text/plain": [
              "{'manteiga & cafe': [1, 2, 3],\n",
              " 'pao & cafe': [1, 2, 3],\n",
              " 'pao & manteiga': [0, 1, 2, 3],\n",
              " 'pao & manteiga & cafe': [1, 2, 3]}"
            ]
          },
          "metadata": {},
          "execution_count": 59
        }
      ]
    },
    {
      "cell_type": "code",
      "metadata": {
        "id": "-kI1E3jHnfQq",
        "colab": {
          "base_uri": "https://localhost:8080/"
        },
        "outputId": "a8610bba-b7a1-4996-af13-8fdf0496c246"
      },
      "source": [
        "suporte"
      ],
      "execution_count": null,
      "outputs": [
        {
          "output_type": "execute_result",
          "data": {
            "text/plain": [
              "{'manteiga & cafe': 0.3,\n",
              " 'pao & cafe': 0.3,\n",
              " 'pao & manteiga': 0.4,\n",
              " 'pao & manteiga & cafe': 0.3}"
            ]
          },
          "metadata": {},
          "execution_count": 60
        }
      ]
    }
  ]
}